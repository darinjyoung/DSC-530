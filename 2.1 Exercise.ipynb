{
 "cells": [
  {
   "cell_type": "code",
   "execution_count": 12,
   "id": "48154d2f-8c53-4a16-a749-98cd148c4a1b",
   "metadata": {},
   "outputs": [
    {
     "name": "stdout",
     "output_type": "stream",
     "text": [
      "Hello world! My name is Darin!\n"
     ]
    }
   ],
   "source": [
    "name = \"Darin\"\n",
    "print(f'Hello world! My name is {name}!')"
   ]
  },
  {
   "cell_type": "code",
   "execution_count": 16,
   "id": "65d586ce-504f-4148-990d-36984cb1f429",
   "metadata": {},
   "outputs": [
    {
     "name": "stdout",
     "output_type": "stream",
     "text": [
      "13\n"
     ]
    }
   ],
   "source": [
    "addition = 10 + 3\n",
    "print(addition)"
   ]
  },
  {
   "cell_type": "code",
   "execution_count": 20,
   "id": "c5187195-410e-41ad-ac11-7ac3e5379b26",
   "metadata": {},
   "outputs": [
    {
     "name": "stdout",
     "output_type": "stream",
     "text": [
      "7\n"
     ]
    }
   ],
   "source": [
    "subtraction = 10 - 3\n",
    "print(subtraction)"
   ]
  },
  {
   "cell_type": "code",
   "execution_count": 24,
   "id": "274a28e7-617e-41ff-bf1d-d7959330deba",
   "metadata": {},
   "outputs": [
    {
     "name": "stdout",
     "output_type": "stream",
     "text": [
      "30\n"
     ]
    }
   ],
   "source": [
    "multiplication = 10 * 3\n",
    "print(multiplication)"
   ]
  },
  {
   "cell_type": "code",
   "execution_count": 26,
   "id": "f0d6a49d-6e53-4096-982e-4c49b616825b",
   "metadata": {},
   "outputs": [
    {
     "name": "stdout",
     "output_type": "stream",
     "text": [
      "3.3333333333333335\n"
     ]
    }
   ],
   "source": [
    "division = 10 / 3\n",
    "print(division)"
   ]
  },
  {
   "cell_type": "code",
   "execution_count": 28,
   "id": "cbaf9788-d0a6-4292-90ca-c20dcf9f89d6",
   "metadata": {},
   "outputs": [
    {
     "name": "stdout",
     "output_type": "stream",
     "text": [
      "Darin Young\n"
     ]
    }
   ],
   "source": [
    "first_name = \"Darin\"\n",
    "last_name = \"Young\"\n",
    "full_name = first_name + \" \" + last_name\n",
    "print(full_name)"
   ]
  },
  {
   "cell_type": "code",
   "execution_count": 48,
   "id": "91ec86ba-2153-46b5-ab61-95c204404fcc",
   "metadata": {},
   "outputs": [
    {
     "name": "stdout",
     "output_type": "stream",
     "text": [
      "The Wolf of Wall Street\n",
      "Everything, Everywhere, All at Once\n",
      "There Will Be Blood\n",
      "The Dark Knight\n"
     ]
    }
   ],
   "source": [
    "favorite_movies = [\"The Wolf of Wall Street\", \"Everything, Everywhere, All at Once\", \"There Will Be Blood\", \"The Dark Knight\"]\n",
    "for movie in favorite_movies:\n",
    "    print(movie)"
   ]
  },
  {
   "cell_type": "code",
   "execution_count": 50,
   "id": "d24695ca-beb1-4dd4-b46a-77fe608ede0a",
   "metadata": {},
   "outputs": [
    {
     "name": "stdout",
     "output_type": "stream",
     "text": [
      "The Wolf of Wall Street\n",
      "Everything, Everywhere, All at Once\n",
      "There Will Be Blood\n",
      "The Dark Knight\n",
      "Back to the Future\n"
     ]
    }
   ],
   "source": [
    "favorite_movies.append(\"Back to the Future\")\n",
    "for movie in favorite_movies:\n",
    "    print(movie)"
   ]
  },
  {
   "cell_type": "code",
   "execution_count": null,
   "id": "6135eab3-172d-4d10-8c34-3d9fa47f1b92",
   "metadata": {},
   "outputs": [],
   "source": []
  }
 ],
 "metadata": {
  "kernelspec": {
   "display_name": "Python 3 (ipykernel)",
   "language": "python",
   "name": "python3"
  },
  "language_info": {
   "codemirror_mode": {
    "name": "ipython",
    "version": 3
   },
   "file_extension": ".py",
   "mimetype": "text/x-python",
   "name": "python",
   "nbconvert_exporter": "python",
   "pygments_lexer": "ipython3",
   "version": "3.11.7"
  }
 },
 "nbformat": 4,
 "nbformat_minor": 5
}
